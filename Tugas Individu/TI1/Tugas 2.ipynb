{
 "cells": [
  {
   "cell_type": "markdown",
   "source": [
    "# Tugas 2\n",
    "\n",
    "Silahkan dikerjakan di google colab dengan cara mengupload notebook ini dan folder dataset (unzip lebih dahulu) kedalam folder Colab Notebooks. Atau bisa dikerjakan di komputer yang sudah menginstall Pytorch \n",
    "\n",
    "\n",
    "Nama: Muhammad Irfan Junaidi\n",
    "\n",
    "NPM: 1906293202"
   ],
   "metadata": {
    "id": "cddVwfj8a6zC"
   }
  },
  {
   "cell_type": "code",
   "execution_count": 1,
   "metadata": {
    "colab": {
     "base_uri": "https://localhost:8080/"
    },
    "id": "3cCgJDS4UD7O",
    "outputId": "9cb9af97-8a10-4909-f580-333495b23ba9"
   },
   "outputs": [],
   "source": [
    "# from google.colab import drive\n",
    "# drive.mount('/content/gdrive')\n",
    "# %cd /content/gdrive/My Drive/Colab Notebooks"
   ]
  },
  {
   "cell_type": "code",
   "execution_count": 2,
   "metadata": {
    "id": "dH_eZ_vFUD7V"
   },
   "outputs": [
    {
     "name": "stdout",
     "output_type": "stream",
     "text": [
      "Using torch 1.11.0+cu113\n",
      "Is CUDA available? True\n"
     ]
    },
    {
     "data": {
      "text/plain": "<torch._C.Generator at 0x18e2b1d86b0>"
     },
     "execution_count": 2,
     "metadata": {},
     "output_type": "execute_result"
    }
   ],
   "source": [
    "from __future__ import print_function, division\n",
    "\n",
    "import torch\n",
    "import torch.nn as nn\n",
    "from torch import optim\n",
    "import torch.backends.cudnn as cudnn\n",
    "import torchvision\n",
    "from torchvision import datasets, models, transforms\n",
    "\n",
    "import pandas as pd\n",
    "import numpy as np\n",
    "import matplotlib.pyplot as plt\n",
    "from sklearn.metrics import confusion_matrix, ConfusionMatrixDisplay\n",
    "import time\n",
    "import os\n",
    "\n",
    "cudnn.benchmark = True\n",
    "plt.ion()   # interactive mode\n",
    "\n",
    "print(\"Using torch\", torch.__version__)\n",
    "print(\"Is CUDA available?\", torch.cuda.is_available())\n",
    "\n",
    "torch.manual_seed(42) # Setting the seed"
   ]
  },
  {
   "cell_type": "markdown",
   "metadata": {
    "id": "4DGF7E5AUD7Y"
   },
   "source": [
    "# Prepare Dataset and Functions"
   ]
  },
  {
   "cell_type": "code",
   "execution_count": 3,
   "metadata": {
    "id": "KdBlrUcrUD7c"
   },
   "outputs": [
    {
     "data": {
      "text/plain": "['Female', 'Male']"
     },
     "execution_count": 3,
     "metadata": {},
     "output_type": "execute_result"
    }
   ],
   "source": [
    "data_transforms = {\n",
    "    'Training': transforms.Compose([\n",
    "        transforms.Resize((48,48)),\n",
    "        transforms.ToTensor()\n",
    "    ]),\n",
    "\n",
    "    'Testing': transforms.Compose([\n",
    "        transforms.Resize((48,48)),\n",
    "        transforms.ToTensor()\n",
    "    ]),\n",
    "}\n",
    "\n",
    "# sesuaikan untuk menuju folder FaceData\n",
    "# data_dir = '/content/gdrive/MyDrive/Colab Notebooks/FaceData'\n",
    "data_dir = 'FaceData'\n",
    "\n",
    "image_datasets = {x: datasets.ImageFolder(os.path.join(data_dir, x),\n",
    "                                          data_transforms[x])\n",
    "                  for x in ['Training', 'Testing']}\n",
    "dataloaders = {x: torch.utils.data.DataLoader(image_datasets[x], batch_size=8,\n",
    "                                             shuffle=True, num_workers=2)\n",
    "              for x in ['Training', 'Testing']}\n",
    "dataset_sizes = {x: len(image_datasets[x]) for x in ['Training', 'Testing']}\n",
    "class_names = image_datasets['Training'].classes\n",
    "\n",
    "device = torch.device(\"cuda:0\" if torch.cuda.is_available() else \"cpu\")\n",
    "class_names"
   ]
  },
  {
   "cell_type": "code",
   "execution_count": 4,
   "metadata": {
    "id": "IBAuWN76UD7e"
   },
   "outputs": [],
   "source": [
    "def train_model(model, criterion, optimizer, num_epochs=25):\n",
    "    phase='Training'\n",
    "    since = time.time()\n",
    "\n",
    "    for epoch in range(num_epochs):\n",
    "        print(f'Epoch {epoch}/{num_epochs - 1}')\n",
    "        print('-' * 10)\n",
    "\n",
    "        model.train() \n",
    "\n",
    "        running_loss = 0.0\n",
    "        running_corrects = 0\n",
    "\n",
    "        for inputs, labels in dataloaders['Training']:\n",
    "            inputs = inputs.to(device)\n",
    "            labels = labels.to(device)\n",
    "\n",
    "            optimizer.zero_grad()\n",
    "\n",
    "            outputs = model(inputs)\n",
    "            _, preds = torch.max(outputs, 1)\n",
    "            loss = criterion(outputs, labels)\n",
    "\n",
    "            loss.backward()\n",
    "            optimizer.step()\n",
    "\n",
    "            running_loss += loss.item() * inputs.size(0)\n",
    "            running_corrects += torch.sum(preds == labels.data)\n",
    "\n",
    "        epoch_loss = running_loss / dataset_sizes[phase]\n",
    "        epoch_acc = running_corrects.double() / dataset_sizes[phase]\n",
    "\n",
    "        print(f'{phase} Loss: {epoch_loss:.4f} Acc: {epoch_acc:.4f}')\n",
    "    \n",
    "    print()\n",
    "\n",
    "    time_elapsed = time.time() - since\n",
    "    print(f'Training complete in {time_elapsed // 60:.0f}m {time_elapsed % 60:.0f}s')\n",
    "\n",
    "    return model"
   ]
  },
  {
   "cell_type": "code",
   "execution_count": 22,
   "metadata": {
    "id": "Md4STKbYUD7g"
   },
   "outputs": [],
   "source": [
    "def test_model(model):\n",
    "    model.eval()\n",
    "    phase = 'Testing'\n",
    "\n",
    "    y_true = []\n",
    "    y_pred = []\n",
    "\n",
    "    for inputs, labels in dataloaders['Testing']:\n",
    "        inputs = inputs.to(device)\n",
    "        labels = labels.to(device)\n",
    "\n",
    "        with torch.no_grad():\n",
    "            outputs = model(inputs)\n",
    "    # TASK\n",
    "            _, pred = torch.max(outputs, 1)\n",
    "            y_pred.append(pred.cpu().numpy())\n",
    "            y_true.append(labels.cpu().numpy())\n",
    "\n",
    "    y_pred = np.array(y_pred).flatten()\n",
    "    y_true = np.array(y_true).flatten()\n",
    "\n",
    "    # TASK\n",
    "    # gunakan fungsi confusion_matrix(y_true, y_pred) untuk membantu kalian menghitung\n",
    "    # akurasi, presisi, recall, f1-score, sensitivity dan specificity\n",
    "\n",
    "    print(\"Confusion Matrix\")\n",
    "    cm = confusion_matrix(y_true, y_pred)\n",
    "    plt.figure(figsize=(5,5))\n",
    "    ax = plt.subplot(1,1,1)\n",
    "    disp = ConfusionMatrixDisplay(cm, display_labels=class_names)\n",
    "    disp.plot(ax=ax)\n",
    "    plt.show()\n",
    "\n",
    "    tn, fp, fn, tp = cm.ravel()\n",
    "\n",
    "    acc = (tp + tn) / (tp + fp + fn + tp)\n",
    "    prcs = tp / (tp + fp)\n",
    "    recl = tp / (tp + fn)\n",
    "    f1 = 2 * recl * prcs / (recl + prcs)\n",
    "    spcf = tn / (tn + fp)\n",
    "\n",
    "    print(f\"{'Accuracy':11s}: {acc}\")\n",
    "    print(f\"{'Precision':11s}: {prcs}\")\n",
    "    print(f\"{'Recall':11s}: {recl}\")\n",
    "    print(f\"{'F1-Score':11s}: {f1}\")\n",
    "    print(f\"{'Specificity':11s}: {spcf}\")"
   ]
  },
  {
   "cell_type": "markdown",
   "metadata": {
    "id": "IUap7Er0UD7h"
   },
   "source": [
    "# Create Model from Scratch"
   ]
  },
  {
   "cell_type": "markdown",
   "metadata": {
    "id": "Dg628xgoUD7i"
   },
   "source": [
    "Disini kita akan membangun model Image Classification dengan arsitektur VGG menggunakan Pytorch. Dibawah ini adalah tabel yang berisi arsitektur VGG16, yaitu spesifikasi layer-layer beserta dengan activation functionnya \n",
    "\n",
    "<img src=\"https://raw.githubusercontent.com/blurred-machine/Data-Science/master/Deep%20Learning%20SOTA/img/config2.jpg\" alt=\"drawing\" width=\"500\"/>"
   ]
  },
  {
   "cell_type": "markdown",
   "metadata": {
    "id": "vKD05NAZUD7i"
   },
   "source": [
    "# Building Blocks\n",
    "Sebelum kita membuat model, kita akan mempelajari bagian-bagian dari sebuah Image Classification model, seperti convolution layer, pooling layer, activation function, dropout, dan fully connected network.\n",
    "\n",
    "Pada tugas ini, kita akan membangun model menggunakan teknik sequential, sehingga setiap layer akan disusun sesuai urutan dia dimasukkan. setiap layer pada model akan dimasukkan kedalam Sequential()\n",
    "\n",
    "<a href='https://pytorch.org/docs/stable/generated/torch.nn.Sequential.html'>Dokumentasi Pytorch</a>"
   ]
  },
  {
   "cell_type": "code",
   "execution_count": 6,
   "metadata": {
    "id": "UFGlncnZUD7j"
   },
   "outputs": [],
   "source": [
    "model = nn.Sequential()"
   ]
  },
  {
   "cell_type": "markdown",
   "metadata": {
    "id": "7O2jYC0gUD7k"
   },
   "source": [
    "Building block pertama yang perlu diperlajari adalah Convolution layer.\n",
    "\n",
    "`Conv2d(n_input_channel, n_output_channel, kernel_size=(K, K), stride=S, padding=P`\n",
    "\n",
    "Contoh:\n",
    "\n",
    "`nn.Conv2d(3, 64, kernel_size=(3, 3), stride=1, padding=1)`\n",
    "\n",
    "berarti layer convolution diatas berekspektasi jumlah channel yang dia terima berjumlah 3, dan jumlah filter (kernel) / feature map / output channel yang dihasilkan ada 64, dengan ukuran tiap filter nya 3x3, dan dengan stride = 1 dan padding = 1"
   ]
  },
  {
   "cell_type": "code",
   "execution_count": 7,
   "metadata": {
    "id": "GEQP9qjbUD7l"
   },
   "outputs": [],
   "source": [
    "model = nn.Sequential(\n",
    "        nn.Conv2d(3, 64, kernel_size=(3, 3), stride=1, padding=1)\n",
    "    )"
   ]
  },
  {
   "cell_type": "markdown",
   "metadata": {
    "id": "qq8WUusNUD7m"
   },
   "source": [
    "Untuk menambahkan activation function, dilakukan dengan cara menambahkan layer di model setelah convolution layer. Pada kasus ini, convolutional layer memiliki fungsi aktivasi ReLU"
   ]
  },
  {
   "cell_type": "code",
   "execution_count": 8,
   "metadata": {
    "id": "N3zRWM7sUD7m"
   },
   "outputs": [],
   "source": [
    "model = nn.Sequential(\n",
    "        nn.Conv2d(3, 64, kernel_size=(3, 3), stride=1, padding=1),\n",
    "        nn.ReLU(inplace=True)\n",
    "    )"
   ]
  },
  {
   "cell_type": "markdown",
   "metadata": {
    "id": "-NOYvGbEUD7n"
   },
   "source": [
    "Layer selanjutnya yang perlu dipelajari adalah Pooling layer. Pada VGG, jenis pooling yang dipakai adalah MaxPooling\n",
    "\n",
    "`MaxPool2d(kernel_size=K, stride=S, padding=P)`\n",
    "\n",
    "Contoh:\n",
    "\n",
    "`MaxPool2d(kernel_size=2, stride=2, padding=0)`\n",
    "\n",
    "MaxPooling layer diatas akan memiliki ukuran kernel 2x2, dengan stride = 1, padding = 0. Sama dengan layer lainnya, MaxPooling layer akan dimasukkan kedalam sequential\n"
   ]
  },
  {
   "cell_type": "code",
   "execution_count": 9,
   "metadata": {
    "id": "7a6IQjrLUD7n"
   },
   "outputs": [],
   "source": [
    "model = nn.Sequential(\n",
    "        nn.Conv2d(3, 64, kernel_size=(3, 3), stride=1, padding=1),\n",
    "        nn.ReLU(inplace=True),\n",
    "        nn.MaxPool2d(kernel_size=2, stride=2, padding=0),\n",
    "        nn.ReLU(inplace=True),\n",
    "    )"
   ]
  },
  {
   "cell_type": "markdown",
   "metadata": {
    "id": "xb9SVGHtUD7n"
   },
   "source": [
    "Setelah kita membuat struktur convolutional network, kita perlu menyiapkan supaya bisa diolah kedalam Fully Connected Network. Salah satu caranya adalah dengan menggunakan Flatten, yang mengubah tensor dimensi apapun menjadi 1 dimensi\n",
    "\n",
    "`nn.Flatten()`\n",
    "\n",
    "Dimensi dari output Flatten layer dihitung dari dimensi input (C, W, H) menjadi (C\\*W\\*H), dengan C = jumlah Channel, W = width, H = height. Contoh:\n",
    "\n",
    "dimensi input = 3, 48, 48\n",
    "\n",
    "dimensi ouput = 3\\*48\\*48 = 6912"
   ]
  },
  {
   "cell_type": "code",
   "execution_count": 10,
   "metadata": {
    "id": "LBcvqTvOUD7o"
   },
   "outputs": [],
   "source": [
    "model = nn.Sequential(\n",
    "        nn.Conv2d(3, 64, kernel_size=(3, 3), stride=1, padding=1),\n",
    "        nn.ReLU(inplace=True),\n",
    "        nn.MaxPool2d(kernel_size=2, stride=2, padding=0),\n",
    "        nn.Flatten()\n",
    "    )"
   ]
  },
  {
   "cell_type": "markdown",
   "metadata": {
    "id": "6fq0ZJ-JUD7o"
   },
   "source": [
    "Setelah itu kita bisa menambahkan fully connected layer, yang tediri dari linear layer dengan activation function\n",
    "\n",
    "`nn.Linear(in_features, out_features)`\n",
    "\n",
    "in_features adalah dimensi dari input layer linear dan harus dihitung berdasarkan dimensi output dari layer sebelumnya. dimensi output sebuah layer akan berubah dari dimensi awal nya, berdasarkan ukuran kernel, strides dan padding. Untuk menetapkan activation pada linear layer, bisa dilakukan dengan menambahkan nn.ReLU atau nn.Sigmoid setelah linear layer nya."
   ]
  },
  {
   "cell_type": "code",
   "execution_count": 11,
   "metadata": {
    "id": "IcsixUwFUD7o"
   },
   "outputs": [],
   "source": [
    "model = nn.Sequential(\n",
    "        nn.Conv2d(3, 64, kernel_size=(3, 3), stride=1, padding=1),\n",
    "        nn.ReLU(inplace=True),\n",
    "        nn.MaxPool2d(kernel_size=2, stride=2, padding=0),\n",
    "        nn.Flatten(),\n",
    "        nn.Linear(1024, 512), # misal 1024, 512\n",
    "        nn.ReLU(inplace=True),\n",
    "        nn.Linear(512, 2) # misal 512, 2\n",
    "    )"
   ]
  },
  {
   "cell_type": "markdown",
   "metadata": {
    "id": "W8rgJtQTUD7p"
   },
   "source": [
    "<img src='https://qph.fs.quoracdn.net/main-qimg-d4023fe66cac95238a76ea1b5bc21d84-pjlq'>"
   ]
  },
  {
   "cell_type": "markdown",
   "metadata": {
    "id": "QnosT8dhUD7p"
   },
   "source": [
    "Pada output layer, kita biasanya menetapkan activation function yang sesuai dengan loss function yang akan digunakan, jika menggunakan Sigmoid activation, kita akan menggunakan binary crossentropy sebagai loss function nya. dan jika menggunakan SoftMax activation, kita menggunakan categorical cross entropy sebagai loss function. namun pada case Pytorch, lebih baik tidak menetapkan activation function pada output layer model kita jika kita menggunakan categorical cross entropy. lebih lengkapnya bisa di google sendiri dan lihat disini : <a href='https://stackoverflow.com/questions/57516027/does-pytorch-apply-softmax-automatically-in-nn-linear'>https://stackoverflow.com/questions/57516027/does-pytorch-apply-softmax-automatically-in-nn-linear</a>"
   ]
  },
  {
   "cell_type": "markdown",
   "metadata": {
    "id": "I9ZHa2c4UD7q"
   },
   "source": [
    "## Build-a-model\n",
    "\n",
    "\\[TASK\\] Lengkapi tabel berikut\n",
    "\n",
    "\n",
    "| Input |    Layer    | Feature Map | Input Size | Kernel Size | Output Size | Stride | Padding | Activation |\n",
    "|:-----:|:-----------:|:-----------:|:----------:|:-----------:|:-----------:|:------:|:-------:|:----------:|\n",
    "|   1   | Convolution |      64     |  48x48x3   |     5x5     |  46x46x64   |    1   |    1    |    ReLU    |\n",
    "|   2   | Convolution |      64     |  46x46x64  |     3x3     |  44x44x64   |    1   |    0    |    ReLU    |\n",
    "|   3   |  MaxPooling |      64     |  44x44x64  |     2x2     |  22x22x64   |    2   |    0    |    ReLU    |\n",
    "|   4   | Convolution |     128     |  22x22x64  |     5x5     |  20x20x128  |    1   |    1    |    ReLU    |\n",
    "|   5   | Convolution |     128     | 20x20x128  |     3x3     |  20x20x128  |    1   |    1    |    ReLU    |\n",
    "|   6   |  MaxPooling |     128     | 20x20x128  |     2x2     |  10x10x128  |    2   |    0    |    ReLU    |\n",
    "|       |   Flatten   |      -      | 10x10x128  |      -      |    12800    |    -   |    -    |      -     |\n",
    "|   7   |      FC     |      -      |   12800    |      -      |    1024     |    -   |    -    |    Relu    |\n",
    "|   8   |      FC     |      -      |    1024    |      -      |      2      |    -   |    -    |   SoftMax  |\n",
    "\n",
    "\\[TASK\\] Buatlah sebuah model berdasarkan spesifikasi di tabel diatas"
   ]
  },
  {
   "cell_type": "code",
   "execution_count": 12,
   "metadata": {
    "id": "yrWBbmYjUD7q"
   },
   "outputs": [],
   "source": [
    "# TASK\n",
    "model = nn.Sequential(\n",
    "            nn.Conv2d(3, 64, kernel_size=(5, 5), stride=1, padding=1), # 1 conv\n",
    "            nn.ReLU(inplace=True),  # 1 act\n",
    "            nn.Conv2d(64, 64, kernel_size=(3, 3), stride=1, padding=0), # 2 conv\n",
    "            nn.ReLU(inplace=True),  # 2 act\n",
    "            nn.MaxPool2d(2, stride=2), # 3 max pool\n",
    "\n",
    "            nn.Conv2d(64, 128, kernel_size=(5, 5), stride=1, padding=1), # 4 conv\n",
    "            nn.ReLU(inplace=True),  # 4 act\n",
    "            nn.Conv2d(128, 128, kernel_size=(3, 3), stride=1, padding=1), # 5 conv\n",
    "            nn.ReLU(inplace=True),  # 5 act\n",
    "            nn.MaxPool2d(2, stride=2), # 6 max pool\n",
    "\n",
    "            nn.Flatten(),\n",
    "            nn.Linear(12800, 1024), # 7 fc\n",
    "            nn.ReLU(inplace=True), # 7 act\n",
    "            nn.Linear(1024, 2) # 8 fc\n",
    "            )"
   ]
  },
  {
   "cell_type": "code",
   "execution_count": 13,
   "metadata": {
    "id": "b7XMLMKnUD7r"
   },
   "outputs": [
    {
     "name": "stdout",
     "output_type": "stream",
     "text": [
      "Epoch 0/9\n",
      "----------\n",
      "Training Loss: 0.6916 Acc: 0.5236\n",
      "Epoch 1/9\n",
      "----------\n",
      "Training Loss: 0.6861 Acc: 0.5539\n",
      "Epoch 2/9\n",
      "----------\n",
      "Training Loss: 0.6369 Acc: 0.6438\n",
      "Epoch 3/9\n",
      "----------\n",
      "Training Loss: 0.5699 Acc: 0.7130\n",
      "Epoch 4/9\n",
      "----------\n",
      "Training Loss: 0.4879 Acc: 0.7790\n",
      "Epoch 5/9\n",
      "----------\n",
      "Training Loss: 0.3864 Acc: 0.8318\n",
      "Epoch 6/9\n",
      "----------\n",
      "Training Loss: 0.3178 Acc: 0.8700\n",
      "Epoch 7/9\n",
      "----------\n",
      "Training Loss: 0.2734 Acc: 0.8912\n",
      "Epoch 8/9\n",
      "----------\n",
      "Training Loss: 0.2518 Acc: 0.9038\n",
      "Epoch 9/9\n",
      "----------\n",
      "Training Loss: 0.2291 Acc: 0.9190\n",
      "\n",
      "Training complete in 1m 34s\n"
     ]
    }
   ],
   "source": [
    "# uji coba performa model\n",
    "\n",
    "model.to(device)\n",
    "criterion = nn.CrossEntropyLoss()\n",
    "optimizer = optim.SGD(model.parameters(), lr=0.01)\n",
    "\n",
    "model = train_model(model, criterion, optimizer, num_epochs=10)"
   ]
  },
  {
   "cell_type": "code",
   "execution_count": 23,
   "metadata": {
    "id": "VDlIhmDkUD7r"
   },
   "outputs": [
    {
     "name": "stdout",
     "output_type": "stream",
     "text": [
      "Confusion Matrix\n"
     ]
    },
    {
     "data": {
      "text/plain": "<Figure size 360x360 with 2 Axes>",
      "image/png": "[encoded data removed]"
     },
     "metadata": {
      "needs_background": "light"
     },
     "output_type": "display_data"
    },
    {
     "name": "stdout",
     "output_type": "stream",
     "text": [
      "Accuracy   : 0.8409090909090909\n",
      "Precision  : 0.8913043478260869\n",
      "Recall     : 0.9761904761904762\n",
      "F1-Score   : 0.9318181818181818\n",
      "Specificity: 0.868421052631579\n"
     ]
    }
   ],
   "source": [
    "test_model(model)"
   ]
  },
  {
   "cell_type": "markdown",
   "metadata": {
    "id": "dy5dxw6FUD7s"
   },
   "source": [
    "# Using Pretrained Model\n",
    "\n",
    "Salah satu kelebihan machine learning adalah kemampuan untuk 'mendaur ulang' model yang sudah dilatih untuk melakukan task lain. Saya sarankan agar mempelajari dulu mengenai Transfer Learning di youtube atau tempat lainnya\n",
    "\n",
    "Secara sederhana, Transfer Learning adalah sebuah teknik untuk membuat modifikasi pada model yang sudah dilatih agar model itu bisa melakukan task lain.\n",
    "\n",
    "Sebagian besar model yang tersedia dilatih pada ImageNet dataset, untuk melakukan klasifikasi pada 1000 kelas pada 14 juta gambar. Kita akan memodifikasi model itu untuk melakukan Gender Prediction dari dataset gambar wajah kita."
   ]
  },
  {
   "cell_type": "code",
   "execution_count": 15,
   "metadata": {
    "id": "92ODnDNeUD7s"
   },
   "outputs": [],
   "source": [
    "vgg16 = models.vgg16() "
   ]
  },
  {
   "cell_type": "markdown",
   "metadata": {
    "id": "W-cZE-reUD7s"
   },
   "source": [
    "model bisa diprint untuk melihat arsitektur nya"
   ]
  },
  {
   "cell_type": "code",
   "execution_count": 16,
   "metadata": {
    "id": "z18mKpEVUD7s"
   },
   "outputs": [
    {
     "name": "stdout",
     "output_type": "stream",
     "text": [
      "VGG(\n",
      "  (features): Sequential(\n",
      "    (0): Conv2d(3, 64, kernel_size=(3, 3), stride=(1, 1), padding=(1, 1))\n",
      "    (1): ReLU(inplace=True)\n",
      "    (2): Conv2d(64, 64, kernel_size=(3, 3), stride=(1, 1), padding=(1, 1))\n",
      "    (3): ReLU(inplace=True)\n",
      "    (4): MaxPool2d(kernel_size=2, stride=2, padding=0, dilation=1, ceil_mode=False)\n",
      "    (5): Conv2d(64, 128, kernel_size=(3, 3), stride=(1, 1), padding=(1, 1))\n",
      "    (6): ReLU(inplace=True)\n",
      "    (7): Conv2d(128, 128, kernel_size=(3, 3), stride=(1, 1), padding=(1, 1))\n",
      "    (8): ReLU(inplace=True)\n",
      "    (9): MaxPool2d(kernel_size=2, stride=2, padding=0, dilation=1, ceil_mode=False)\n",
      "    (10): Conv2d(128, 256, kernel_size=(3, 3), stride=(1, 1), padding=(1, 1))\n",
      "    (11): ReLU(inplace=True)\n",
      "    (12): Conv2d(256, 256, kernel_size=(3, 3), stride=(1, 1), padding=(1, 1))\n",
      "    (13): ReLU(inplace=True)\n",
      "    (14): Conv2d(256, 256, kernel_size=(3, 3), stride=(1, 1), padding=(1, 1))\n",
      "    (15): ReLU(inplace=True)\n",
      "    (16): MaxPool2d(kernel_size=2, stride=2, padding=0, dilation=1, ceil_mode=False)\n",
      "    (17): Conv2d(256, 512, kernel_size=(3, 3), stride=(1, 1), padding=(1, 1))\n",
      "    (18): ReLU(inplace=True)\n",
      "    (19): Conv2d(512, 512, kernel_size=(3, 3), stride=(1, 1), padding=(1, 1))\n",
      "    (20): ReLU(inplace=True)\n",
      "    (21): Conv2d(512, 512, kernel_size=(3, 3), stride=(1, 1), padding=(1, 1))\n",
      "    (22): ReLU(inplace=True)\n",
      "    (23): MaxPool2d(kernel_size=2, stride=2, padding=0, dilation=1, ceil_mode=False)\n",
      "    (24): Conv2d(512, 512, kernel_size=(3, 3), stride=(1, 1), padding=(1, 1))\n",
      "    (25): ReLU(inplace=True)\n",
      "    (26): Conv2d(512, 512, kernel_size=(3, 3), stride=(1, 1), padding=(1, 1))\n",
      "    (27): ReLU(inplace=True)\n",
      "    (28): Conv2d(512, 512, kernel_size=(3, 3), stride=(1, 1), padding=(1, 1))\n",
      "    (29): ReLU(inplace=True)\n",
      "    (30): MaxPool2d(kernel_size=2, stride=2, padding=0, dilation=1, ceil_mode=False)\n",
      "  )\n",
      "  (avgpool): AdaptiveAvgPool2d(output_size=(7, 7))\n",
      "  (classifier): Sequential(\n",
      "    (0): Linear(in_features=25088, out_features=4096, bias=True)\n",
      "    (1): ReLU(inplace=True)\n",
      "    (2): Dropout(p=0.5, inplace=False)\n",
      "    (3): Linear(in_features=4096, out_features=4096, bias=True)\n",
      "    (4): ReLU(inplace=True)\n",
      "    (5): Dropout(p=0.5, inplace=False)\n",
      "    (6): Linear(in_features=4096, out_features=1000, bias=True)\n",
      "  )\n",
      ")\n"
     ]
    }
   ],
   "source": [
    "print(vgg16)"
   ]
  },
  {
   "cell_type": "markdown",
   "metadata": {
    "id": "Qt_2TD6aUD7t"
   },
   "source": [
    "kita akan mengganti block classifier supaya model ini memprediksi gender"
   ]
  },
  {
   "cell_type": "code",
   "execution_count": 17,
   "metadata": {
    "id": "2BGcqkLGUD7t"
   },
   "outputs": [],
   "source": [
    "vgg16.classifier = nn.Sequential(\n",
    "        nn.Linear(in_features=25088, out_features=4096, bias=True),\n",
    "        nn.ReLU(inplace=True),\n",
    "        nn.Dropout(p=0.5, inplace=False),\n",
    "        nn.Linear(in_features=4096, out_features=512, bias=True),\n",
    "        nn.ReLU(inplace=True),\n",
    "        nn.Linear(in_features=512, out_features=2, bias=True),\n",
    "    )"
   ]
  },
  {
   "cell_type": "code",
   "execution_count": 18,
   "metadata": {
    "id": "h1dW2uhUUD7t"
   },
   "outputs": [
    {
     "name": "stdout",
     "output_type": "stream",
     "text": [
      "Epoch 0/9\n",
      "----------\n",
      "Training Loss: 0.6917 Acc: 0.5219\n",
      "Epoch 1/9\n",
      "----------\n",
      "Training Loss: 0.6675 Acc: 0.5980\n",
      "Epoch 2/9\n",
      "----------\n",
      "Training Loss: 0.5985 Acc: 0.6911\n",
      "Epoch 3/9\n",
      "----------\n",
      "Training Loss: 0.4431 Acc: 0.7978\n",
      "Epoch 4/9\n",
      "----------\n",
      "Training Loss: 0.3091 Acc: 0.8749\n",
      "Epoch 5/9\n",
      "----------\n",
      "Training Loss: 0.2568 Acc: 0.9048\n",
      "Epoch 6/9\n",
      "----------\n",
      "Training Loss: 0.2182 Acc: 0.9204\n",
      "Epoch 7/9\n",
      "----------\n",
      "Training Loss: 0.1941 Acc: 0.9350\n",
      "Epoch 8/9\n",
      "----------\n",
      "Training Loss: 0.1803 Acc: 0.9402\n",
      "Epoch 9/9\n",
      "----------\n",
      "Training Loss: 0.1584 Acc: 0.9461\n",
      "\n",
      "Training complete in 3m 49s\n"
     ]
    }
   ],
   "source": [
    "vgg16.to(device)\n",
    "criterion = nn.CrossEntropyLoss()\n",
    "optimizer = optim.SGD(vgg16.parameters(), lr=0.01)\n",
    "\n",
    "vgg16 = train_model(vgg16, criterion, optimizer, num_epochs=10)"
   ]
  },
  {
   "cell_type": "code",
   "execution_count": 24,
   "metadata": {
    "id": "7f-HgtzaUD7t"
   },
   "outputs": [
    {
     "name": "stdout",
     "output_type": "stream",
     "text": [
      "Confusion Matrix\n"
     ]
    },
    {
     "data": {
      "text/plain": "<Figure size 360x360 with 2 Axes>",
      "image/png": "[encoded data removed]"
     },
     "metadata": {
      "needs_background": "light"
     },
     "output_type": "display_data"
    },
    {
     "name": "stdout",
     "output_type": "stream",
     "text": [
      "Accuracy   : 0.9240506329113924\n",
      "Precision  : 0.972972972972973\n",
      "Recall     : 0.8571428571428571\n",
      "F1-Score   : 0.9113924050632912\n",
      "Specificity: 0.9736842105263158\n"
     ]
    }
   ],
   "source": [
    "test_model(vgg16)"
   ]
  },
  {
   "cell_type": "markdown",
   "metadata": {
    "id": "2OYjZjvxUD7u"
   },
   "source": [
    "Ada banyak model lain yang lebih baik dan lebih cepat, silahkan dicoba sendiri\n",
    "\n",
    "`import torchvision.models as models`\n",
    "\n",
    "`resnet18 = models.resnet18()`\n",
    "\n",
    "`alexnet = models.alexnet()`\n",
    "\n",
    "`vgg16 = models.vgg16()`\n",
    "\n",
    "`squeezenet = models.squeezenet1_0()`\n",
    "\n",
    "`densenet = models.densenet161()`\n"
   ]
  },
  {
   "cell_type": "code",
   "execution_count": 20,
   "metadata": {
    "id": "HbKsEKtYUD7u"
   },
   "outputs": [],
   "source": [
    "# TASK\n",
    "# create a Sequential that has the final layer's output size of 1 neuron and followed by Sigmoid activation function, \n",
    "# and assign it as vgg16 classifier\n",
    "\n",
    "new_classifier = nn.Sequential(\n",
    "        nn.Linear(in_features=25088, out_features=4096, bias=True),\n",
    "        nn.ReLU(inplace=True),\n",
    "        nn.Dropout(p=0.5, inplace=False),\n",
    "        nn.Linear(in_features=4096, out_features=64, bias=True),\n",
    "        nn.ReLU(inplace=True),\n",
    "        nn.Linear(in_features=64, out_features=1, bias=True),\n",
    "        nn.Sigmoid()\n",
    "    )"
   ]
  },
  {
   "cell_type": "code",
   "execution_count": 21,
   "outputs": [
    {
     "name": "stdout",
     "output_type": "stream",
     "text": [
      "VGG(\n",
      "  (features): Sequential(\n",
      "    (0): Conv2d(3, 64, kernel_size=(3, 3), stride=(1, 1), padding=(1, 1))\n",
      "    (1): ReLU(inplace=True)\n",
      "    (2): Conv2d(64, 64, kernel_size=(3, 3), stride=(1, 1), padding=(1, 1))\n",
      "    (3): ReLU(inplace=True)\n",
      "    (4): MaxPool2d(kernel_size=2, stride=2, padding=0, dilation=1, ceil_mode=False)\n",
      "    (5): Conv2d(64, 128, kernel_size=(3, 3), stride=(1, 1), padding=(1, 1))\n",
      "    (6): ReLU(inplace=True)\n",
      "    (7): Conv2d(128, 128, kernel_size=(3, 3), stride=(1, 1), padding=(1, 1))\n",
      "    (8): ReLU(inplace=True)\n",
      "    (9): MaxPool2d(kernel_size=2, stride=2, padding=0, dilation=1, ceil_mode=False)\n",
      "    (10): Conv2d(128, 256, kernel_size=(3, 3), stride=(1, 1), padding=(1, 1))\n",
      "    (11): ReLU(inplace=True)\n",
      "    (12): Conv2d(256, 256, kernel_size=(3, 3), stride=(1, 1), padding=(1, 1))\n",
      "    (13): ReLU(inplace=True)\n",
      "    (14): Conv2d(256, 256, kernel_size=(3, 3), stride=(1, 1), padding=(1, 1))\n",
      "    (15): ReLU(inplace=True)\n",
      "    (16): MaxPool2d(kernel_size=2, stride=2, padding=0, dilation=1, ceil_mode=False)\n",
      "    (17): Conv2d(256, 512, kernel_size=(3, 3), stride=(1, 1), padding=(1, 1))\n",
      "    (18): ReLU(inplace=True)\n",
      "    (19): Conv2d(512, 512, kernel_size=(3, 3), stride=(1, 1), padding=(1, 1))\n",
      "    (20): ReLU(inplace=True)\n",
      "    (21): Conv2d(512, 512, kernel_size=(3, 3), stride=(1, 1), padding=(1, 1))\n",
      "    (22): ReLU(inplace=True)\n",
      "    (23): MaxPool2d(kernel_size=2, stride=2, padding=0, dilation=1, ceil_mode=False)\n",
      "    (24): Conv2d(512, 512, kernel_size=(3, 3), stride=(1, 1), padding=(1, 1))\n",
      "    (25): ReLU(inplace=True)\n",
      "    (26): Conv2d(512, 512, kernel_size=(3, 3), stride=(1, 1), padding=(1, 1))\n",
      "    (27): ReLU(inplace=True)\n",
      "    (28): Conv2d(512, 512, kernel_size=(3, 3), stride=(1, 1), padding=(1, 1))\n",
      "    (29): ReLU(inplace=True)\n",
      "    (30): MaxPool2d(kernel_size=2, stride=2, padding=0, dilation=1, ceil_mode=False)\n",
      "  )\n",
      "  (avgpool): AdaptiveAvgPool2d(output_size=(7, 7))\n",
      "  (classifier): Sequential(\n",
      "    (0): Linear(in_features=25088, out_features=4096, bias=True)\n",
      "    (1): ReLU(inplace=True)\n",
      "    (2): Dropout(p=0.5, inplace=False)\n",
      "    (3): Linear(in_features=4096, out_features=64, bias=True)\n",
      "    (4): ReLU(inplace=True)\n",
      "    (5): Linear(in_features=64, out_features=1, bias=True)\n",
      "    (6): Sigmoid()\n",
      "  )\n",
      ")\n"
     ]
    }
   ],
   "source": [
    "new_vgg16 = models.vgg16()\n",
    "new_vgg16.classifier = new_classifier\n",
    "print(new_vgg16)"
   ],
   "metadata": {
    "collapsed": false,
    "pycharm": {
     "name": "#%%\n"
    }
   }
  }
 ],
 "metadata": {
  "kernelspec": {
   "display_name": "Python 3",
   "language": "python",
   "name": "python3"
  },
  "language_info": {
   "codemirror_mode": {
    "name": "ipython",
    "version": 3
   },
   "file_extension": ".py",
   "mimetype": "text/x-python",
   "name": "python",
   "nbconvert_exporter": "python",
   "pygments_lexer": "ipython3",
   "version": "3.8.5"
  },
  "colab": {
   "name": "Tugas 2.ipynb",
   "provenance": [],
   "collapsed_sections": []
  },
  "accelerator": "GPU"
 },
 "nbformat": 4,
 "nbformat_minor": 0
}